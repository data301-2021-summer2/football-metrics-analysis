{
 "cells": [
  {
   "cell_type": "code",
   "execution_count": null,
   "id": "3ae9618f-6f7b-4e66-8129-3a229a25bc11",
   "metadata": {},
   "outputs": [],
   "source": [
    "from Scripts import project_functions as pf# This is called a relative import\n"
   ]
  }
 ],
 "metadata": {
  "kernelspec": {
   "display_name": "Python 3 (ipykernel)",
   "language": "python",
   "name": "python3"
  },
  "language_info": {
   "codemirror_mode": {
    "name": "ipython",
    "version": 3
   },
   "file_extension": ".py",
   "mimetype": "text/x-python",
   "name": "python",
   "nbconvert_exporter": "python",
   "pygments_lexer": "ipython3",
   "version": "3.8.5"
  }
 },
 "nbformat": 4,
 "nbformat_minor": 5
}
